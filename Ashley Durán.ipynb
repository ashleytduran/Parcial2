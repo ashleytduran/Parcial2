{
 "cells": [
  {
   "cell_type": "code",
   "execution_count": 1,
   "metadata": {},
   "outputs": [],
   "source": [
    "##Parcial 2 - Ashley Durán"
   ]
  },
  {
   "cell_type": "code",
   "execution_count": 2,
   "metadata": {},
   "outputs": [],
   "source": [
    "#Aquí importamos los paquetes que necesitamos\n",
    "import pandas as pd\n",
    "import numpy as np\n",
    "import matplotlib.pyplot as plot\n",
    "from statsmodels.graphics.tsaplots import plot_acf, plot_pacf\n",
    "import statsmodels.api as sm\n",
    "from statsmodels.tsa.statespace.sarimax import SARIMAX\n",
    "from datetime import datetime\n",
    "from sklearn.metrics import mean_squared_error,mean_absolute_error"
   ]
  },
  {
   "cell_type": "code",
   "execution_count": 3,
   "metadata": {},
   "outputs": [],
   "source": [
    "from statsmodels.tsa.arima_model import ARIMA\n",
    "from pmdarima.arima import auto_arima"
   ]
  },
  {
   "cell_type": "code",
   "execution_count": 4,
   "metadata": {},
   "outputs": [],
   "source": [
    "#Importamos la base con los datos históricos diarios de la TRM\n",
    "TRM = \"TRMdatos\"\n",
    "base_TRM = pd.read_csv(TRM, header=0, parse_dates=True, usecols= [0,2])\n",
    "base_TRM.index = pd.to_datetime(base_TRM.VIGENCIADESDE, format=\"%d/%m/%Y\")\n",
    "\n",
    "\n",
    "#Establecemos una transformación de los datos diarios a datos mensuales\n",
    "#e indicamos que se tome el último dato del mes como referencia\n",
    "data_TRM = base_TRM.resample(rule = 'M').last()\n",
    "\n",
    "\n",
    "#Necesitamos delimitar la base hasta el 2018\n",
    "inicio1 = pd.to_datetime(\"1991-12-02\").date()\n",
    "final1 = pd.to_datetime(\"2018-12-31\").date()\n",
    "data2_TRM = data_TRM.loc[inicio1:final1]"
   ]
  },
  {
   "cell_type": "code",
   "execution_count": 5,
   "metadata": {},
   "outputs": [
    {
     "data": {
      "text/html": [
       "<div>\n",
       "<style scoped>\n",
       "    .dataframe tbody tr th:only-of-type {\n",
       "        vertical-align: middle;\n",
       "    }\n",
       "\n",
       "    .dataframe tbody tr th {\n",
       "        vertical-align: top;\n",
       "    }\n",
       "\n",
       "    .dataframe thead th {\n",
       "        text-align: right;\n",
       "    }\n",
       "</style>\n",
       "<table border=\"1\" class=\"dataframe\">\n",
       "  <thead>\n",
       "    <tr style=\"text-align: right;\">\n",
       "      <th></th>\n",
       "      <th>VALOR</th>\n",
       "      <th>VIGENCIADESDE</th>\n",
       "    </tr>\n",
       "    <tr>\n",
       "      <th>VIGENCIADESDE</th>\n",
       "      <th></th>\n",
       "      <th></th>\n",
       "    </tr>\n",
       "  </thead>\n",
       "  <tbody>\n",
       "    <tr>\n",
       "      <th>1991-12-31</th>\n",
       "      <td>632.37</td>\n",
       "      <td>31/12/1991</td>\n",
       "    </tr>\n",
       "    <tr>\n",
       "      <th>1992-01-31</th>\n",
       "      <td>644.27</td>\n",
       "      <td>31/01/1992</td>\n",
       "    </tr>\n",
       "    <tr>\n",
       "      <th>1992-02-29</th>\n",
       "      <td>636.54</td>\n",
       "      <td>29/02/1992</td>\n",
       "    </tr>\n",
       "    <tr>\n",
       "      <th>1992-03-31</th>\n",
       "      <td>641.59</td>\n",
       "      <td>31/03/1992</td>\n",
       "    </tr>\n",
       "    <tr>\n",
       "      <th>1992-04-30</th>\n",
       "      <td>653.83</td>\n",
       "      <td>30/04/1992</td>\n",
       "    </tr>\n",
       "    <tr>\n",
       "      <th>...</th>\n",
       "      <td>...</td>\n",
       "      <td>...</td>\n",
       "    </tr>\n",
       "    <tr>\n",
       "      <th>2020-07-31</th>\n",
       "      <td>3739.49</td>\n",
       "      <td>31/07/2020</td>\n",
       "    </tr>\n",
       "    <tr>\n",
       "      <th>2020-08-31</th>\n",
       "      <td>3760.38</td>\n",
       "      <td>29/08/2020</td>\n",
       "    </tr>\n",
       "    <tr>\n",
       "      <th>2020-09-30</th>\n",
       "      <td>3878.94</td>\n",
       "      <td>30/09/2020</td>\n",
       "    </tr>\n",
       "    <tr>\n",
       "      <th>2020-10-31</th>\n",
       "      <td>3858.56</td>\n",
       "      <td>31/10/2020</td>\n",
       "    </tr>\n",
       "    <tr>\n",
       "      <th>2020-11-30</th>\n",
       "      <td>3649.90</td>\n",
       "      <td>21/11/2020</td>\n",
       "    </tr>\n",
       "  </tbody>\n",
       "</table>\n",
       "<p>348 rows × 2 columns</p>\n",
       "</div>"
      ],
      "text/plain": [
       "                 VALOR VIGENCIADESDE\n",
       "VIGENCIADESDE                       \n",
       "1991-12-31      632.37    31/12/1991\n",
       "1992-01-31      644.27    31/01/1992\n",
       "1992-02-29      636.54    29/02/1992\n",
       "1992-03-31      641.59    31/03/1992\n",
       "1992-04-30      653.83    30/04/1992\n",
       "...                ...           ...\n",
       "2020-07-31     3739.49    31/07/2020\n",
       "2020-08-31     3760.38    29/08/2020\n",
       "2020-09-30     3878.94    30/09/2020\n",
       "2020-10-31     3858.56    31/10/2020\n",
       "2020-11-30     3649.90    21/11/2020\n",
       "\n",
       "[348 rows x 2 columns]"
      ]
     },
     "execution_count": 5,
     "metadata": {},
     "output_type": "execute_result"
    }
   ],
   "source": [
    "data_TRM"
   ]
  },
  {
   "cell_type": "code",
   "execution_count": 6,
   "metadata": {
    "scrolled": true
   },
   "outputs": [
    {
     "data": {
      "text/html": [
       "<div>\n",
       "<style scoped>\n",
       "    .dataframe tbody tr th:only-of-type {\n",
       "        vertical-align: middle;\n",
       "    }\n",
       "\n",
       "    .dataframe tbody tr th {\n",
       "        vertical-align: top;\n",
       "    }\n",
       "\n",
       "    .dataframe thead th {\n",
       "        text-align: right;\n",
       "    }\n",
       "</style>\n",
       "<table border=\"1\" class=\"dataframe\">\n",
       "  <thead>\n",
       "    <tr style=\"text-align: right;\">\n",
       "      <th></th>\n",
       "      <th>VALOR</th>\n",
       "      <th>VIGENCIADESDE</th>\n",
       "    </tr>\n",
       "    <tr>\n",
       "      <th>VIGENCIADESDE</th>\n",
       "      <th></th>\n",
       "      <th></th>\n",
       "    </tr>\n",
       "  </thead>\n",
       "  <tbody>\n",
       "    <tr>\n",
       "      <th>1991-12-31</th>\n",
       "      <td>632.37</td>\n",
       "      <td>31/12/1991</td>\n",
       "    </tr>\n",
       "    <tr>\n",
       "      <th>1992-01-31</th>\n",
       "      <td>644.27</td>\n",
       "      <td>31/01/1992</td>\n",
       "    </tr>\n",
       "    <tr>\n",
       "      <th>1992-02-29</th>\n",
       "      <td>636.54</td>\n",
       "      <td>29/02/1992</td>\n",
       "    </tr>\n",
       "    <tr>\n",
       "      <th>1992-03-31</th>\n",
       "      <td>641.59</td>\n",
       "      <td>31/03/1992</td>\n",
       "    </tr>\n",
       "    <tr>\n",
       "      <th>1992-04-30</th>\n",
       "      <td>653.83</td>\n",
       "      <td>30/04/1992</td>\n",
       "    </tr>\n",
       "    <tr>\n",
       "      <th>...</th>\n",
       "      <td>...</td>\n",
       "      <td>...</td>\n",
       "    </tr>\n",
       "    <tr>\n",
       "      <th>2018-08-31</th>\n",
       "      <td>3027.39</td>\n",
       "      <td>31/08/2018</td>\n",
       "    </tr>\n",
       "    <tr>\n",
       "      <th>2018-09-30</th>\n",
       "      <td>2972.18</td>\n",
       "      <td>29/09/2018</td>\n",
       "    </tr>\n",
       "    <tr>\n",
       "      <th>2018-10-31</th>\n",
       "      <td>3202.44</td>\n",
       "      <td>31/10/2018</td>\n",
       "    </tr>\n",
       "    <tr>\n",
       "      <th>2018-11-30</th>\n",
       "      <td>3240.02</td>\n",
       "      <td>30/11/2018</td>\n",
       "    </tr>\n",
       "    <tr>\n",
       "      <th>2018-12-31</th>\n",
       "      <td>3249.75</td>\n",
       "      <td>29/12/2018</td>\n",
       "    </tr>\n",
       "  </tbody>\n",
       "</table>\n",
       "<p>325 rows × 2 columns</p>\n",
       "</div>"
      ],
      "text/plain": [
       "                 VALOR VIGENCIADESDE\n",
       "VIGENCIADESDE                       \n",
       "1991-12-31      632.37    31/12/1991\n",
       "1992-01-31      644.27    31/01/1992\n",
       "1992-02-29      636.54    29/02/1992\n",
       "1992-03-31      641.59    31/03/1992\n",
       "1992-04-30      653.83    30/04/1992\n",
       "...                ...           ...\n",
       "2018-08-31     3027.39    31/08/2018\n",
       "2018-09-30     2972.18    29/09/2018\n",
       "2018-10-31     3202.44    31/10/2018\n",
       "2018-11-30     3240.02    30/11/2018\n",
       "2018-12-31     3249.75    29/12/2018\n",
       "\n",
       "[325 rows x 2 columns]"
      ]
     },
     "execution_count": 6,
     "metadata": {},
     "output_type": "execute_result"
    }
   ],
   "source": [
    "data2_TRM"
   ]
  },
  {
   "cell_type": "code",
   "execution_count": 7,
   "metadata": {
    "scrolled": true
   },
   "outputs": [
    {
     "name": "stdout",
     "output_type": "stream",
     "text": [
      "Performing stepwise search to minimize aic\n",
      " ARIMA(1,1,1)(0,0,0)[0] intercept   : AIC=3733.257, Time=0.43 sec\n",
      " ARIMA(0,1,0)(0,0,0)[0] intercept   : AIC=3730.784, Time=0.03 sec\n",
      " ARIMA(1,1,0)(0,0,0)[0] intercept   : AIC=3731.263, Time=0.06 sec\n",
      " ARIMA(0,1,1)(0,0,0)[0] intercept   : AIC=3731.312, Time=0.16 sec\n",
      " ARIMA(0,1,0)(0,0,0)[0]             : AIC=3732.413, Time=0.02 sec\n",
      "\n",
      "Best model:  ARIMA(0,1,0)(0,0,0)[0] intercept\n",
      "Total fit time: 1.755 seconds\n"
     ]
    },
    {
     "data": {
      "text/html": [
       "<table class=\"simpletable\">\n",
       "<caption>SARIMAX Results</caption>\n",
       "<tr>\n",
       "  <th>Dep. Variable:</th>           <td>y</td>        <th>  No. Observations:  </th>    <td>325</td>   \n",
       "</tr>\n",
       "<tr>\n",
       "  <th>Model:</th>           <td>SARIMAX(0, 1, 0)</td> <th>  Log Likelihood     </th> <td>-1863.392</td>\n",
       "</tr>\n",
       "<tr>\n",
       "  <th>Date:</th>            <td>Sun, 22 Nov 2020</td> <th>  AIC                </th> <td>3730.784</td> \n",
       "</tr>\n",
       "<tr>\n",
       "  <th>Time:</th>                <td>00:16:25</td>     <th>  BIC                </th> <td>3738.346</td> \n",
       "</tr>\n",
       "<tr>\n",
       "  <th>Sample:</th>                  <td>0</td>        <th>  HQIC               </th> <td>3733.802</td> \n",
       "</tr>\n",
       "<tr>\n",
       "  <th></th>                      <td> - 325</td>      <th>                     </th>     <td> </td>    \n",
       "</tr>\n",
       "<tr>\n",
       "  <th>Covariance Type:</th>        <td>opg</td>       <th>                     </th>     <td> </td>    \n",
       "</tr>\n",
       "</table>\n",
       "<table class=\"simpletable\">\n",
       "<tr>\n",
       "      <td></td>         <th>coef</th>     <th>std err</th>      <th>z</th>      <th>P>|z|</th>  <th>[0.025</th>    <th>0.975]</th>  \n",
       "</tr>\n",
       "<tr>\n",
       "  <th>intercept</th> <td>    8.0783</td> <td>    4.239</td> <td>    1.906</td> <td> 0.057</td> <td>   -0.229</td> <td>   16.386</td>\n",
       "</tr>\n",
       "<tr>\n",
       "  <th>sigma2</th>    <td> 5793.7980</td> <td>  305.039</td> <td>   18.994</td> <td> 0.000</td> <td> 5195.933</td> <td> 6391.663</td>\n",
       "</tr>\n",
       "</table>\n",
       "<table class=\"simpletable\">\n",
       "<tr>\n",
       "  <th>Ljung-Box (Q):</th>          <td>79.30</td> <th>  Jarque-Bera (JB):  </th> <td>83.78</td>\n",
       "</tr>\n",
       "<tr>\n",
       "  <th>Prob(Q):</th>                <td>0.00</td>  <th>  Prob(JB):          </th> <td>0.00</td> \n",
       "</tr>\n",
       "<tr>\n",
       "  <th>Heteroskedasticity (H):</th> <td>7.98</td>  <th>  Skew:              </th> <td>0.14</td> \n",
       "</tr>\n",
       "<tr>\n",
       "  <th>Prob(H) (two-sided):</th>    <td>0.00</td>  <th>  Kurtosis:          </th> <td>5.47</td> \n",
       "</tr>\n",
       "</table><br/><br/>Warnings:<br/>[1] Covariance matrix calculated using the outer product of gradients (complex-step)."
      ],
      "text/plain": [
       "<class 'statsmodels.iolib.summary.Summary'>\n",
       "\"\"\"\n",
       "                               SARIMAX Results                                \n",
       "==============================================================================\n",
       "Dep. Variable:                      y   No. Observations:                  325\n",
       "Model:               SARIMAX(0, 1, 0)   Log Likelihood               -1863.392\n",
       "Date:                Sun, 22 Nov 2020   AIC                           3730.784\n",
       "Time:                        00:16:25   BIC                           3738.346\n",
       "Sample:                             0   HQIC                          3733.802\n",
       "                                - 325                                         \n",
       "Covariance Type:                  opg                                         \n",
       "==============================================================================\n",
       "                 coef    std err          z      P>|z|      [0.025      0.975]\n",
       "------------------------------------------------------------------------------\n",
       "intercept      8.0783      4.239      1.906      0.057      -0.229      16.386\n",
       "sigma2      5793.7980    305.039     18.994      0.000    5195.933    6391.663\n",
       "===================================================================================\n",
       "Ljung-Box (Q):                       79.30   Jarque-Bera (JB):                83.78\n",
       "Prob(Q):                              0.00   Prob(JB):                         0.00\n",
       "Heteroskedasticity (H):               7.98   Skew:                             0.14\n",
       "Prob(H) (two-sided):                  0.00   Kurtosis:                         5.47\n",
       "===================================================================================\n",
       "\n",
       "Warnings:\n",
       "[1] Covariance matrix calculated using the outer product of gradients (complex-step).\n",
       "\"\"\""
      ]
     },
     "execution_count": 7,
     "metadata": {},
     "output_type": "execute_result"
    }
   ],
   "source": [
    "#Utilice la serie mensual con informacion hasta 2018 : 12 para identificar por lo\n",
    "#menos dos modelos ARMA para realizar pronosticos sobre la serie.\n",
    "\n",
    "modelo = auto_arima(data2_TRM.VALOR.dropna(), start_p=1, start_q=1,\n",
    "                      test='adf',       \n",
    "                      max_p=4, max_q=4, \n",
    "                      d=None,       \n",
    "                      start_P=0, \n",
    "                      D=1, \n",
    "                      trace=True,\n",
    "                      error_action='ignore',  \n",
    "                      suppress_warnings=True, \n",
    "                      stepwise=True)\n",
    "modelo.summary()\n",
    "\n",
    "#ARIMA (0,1,0) y ARIMA (1,1,0) porque tienen los menores AIC"
   ]
  },
  {
   "cell_type": "code",
   "execution_count": 8,
   "metadata": {},
   "outputs": [],
   "source": [
    "#Pronostique la tasa de cambio desde Enero a Septiembre de 2019 (mes a mes,rolling window). \n",
    "#Reporte alguna metrica de desempeño de pronostico y compare los modelos construidos en el punto anterior. \n",
    "#Utilice el test de Diebold y Mariano para comparar el desempeño de los modelos"
   ]
  },
  {
   "cell_type": "code",
   "execution_count": 9,
   "metadata": {},
   "outputs": [],
   "source": [
    "inicial = pd.Timestamp(\"1991-12-31\")\n",
    "final = pd.Timestamp(\"2018-12-31\")"
   ]
  },
  {
   "cell_type": "code",
   "execution_count": 10,
   "metadata": {},
   "outputs": [],
   "source": [
    "rollingw1=[]\n",
    "for i in range(9):\n",
    "    inicio = inicial + pd.DateOffset(months=i)\n",
    "    fin = final + pd.DateOffset(months=i)\n",
    "    ventana = data_TRM.loc[inicio:fin,\"VALOR\"]\n",
    "    modelo = SARIMAX(ventana, order = (0,1,0))\n",
    "    modelo_fit = modelo.fit()\n",
    "    predic = modelo_fit.get_forecast(steps=1).predicted_mean\n",
    "    rollingw1.append(predic[0])"
   ]
  },
  {
   "cell_type": "code",
   "execution_count": 11,
   "metadata": {
    "scrolled": true
   },
   "outputs": [],
   "source": [
    "rollingw2=[]\n",
    "for i in range(9):\n",
    "    inicio = inicial + pd.DateOffset(months=i)\n",
    "    fin = final + pd.DateOffset(months=i)\n",
    "    ventana2 = data_TRM.loc[inicio:fin,\"VALOR\"]\n",
    "    modelo = SARIMAX(ventana2, order = (1,1,0))\n",
    "    modelo_fit = modelo.fit()\n",
    "    predic = modelo_fit.get_forecast(steps=1).predicted_mean\n",
    "    rollingw2.append(predic[0])"
   ]
  },
  {
   "cell_type": "code",
   "execution_count": 12,
   "metadata": {},
   "outputs": [],
   "source": [
    "#Traemos de nuevo la base original\n",
    "TRM2 = \"TRM2\"\n",
    "base2_TRM = pd.read_csv(TRM2, header=0, parse_dates=True, usecols= [0,2])\n",
    "base2_TRM.index = pd.to_datetime(base2_TRM.VIGENCIADESDE, format=\"%d/%m/%Y\")\n",
    "data2_TRM = base_TRM.resample(rule = 'M').last()"
   ]
  },
  {
   "cell_type": "code",
   "execution_count": 13,
   "metadata": {},
   "outputs": [],
   "source": [
    "#Definimos como actual la base con los datos observados\n",
    "actual = data2_TRM.loc[\"2019-01-31\":\"2019-09-30\",\"VALOR\"]"
   ]
  },
  {
   "cell_type": "code",
   "execution_count": 14,
   "metadata": {},
   "outputs": [],
   "source": [
    "def mape(actual, rollingw): \n",
    "    actual, rollingw = np.array(actual), np.array(rollingw)\n",
    "    return np.mean(np.abs((actual - rollingw) / actual)) * 100"
   ]
  },
  {
   "cell_type": "code",
   "execution_count": 15,
   "metadata": {},
   "outputs": [
    {
     "name": "stdout",
     "output_type": "stream",
     "text": [
      "2.9763568696005067\n",
      "2.954744941224447\n"
     ]
    }
   ],
   "source": [
    "#Calculamos el Mean absolute percentage error\n",
    "mape1 = mape(actual,rollingw1)\n",
    "print(mape1)\n",
    "mape2 = mape(actual, rollingw2)\n",
    "print(mape2)"
   ]
  },
  {
   "cell_type": "code",
   "execution_count": 16,
   "metadata": {},
   "outputs": [
    {
     "name": "stdout",
     "output_type": "stream",
     "text": [
      "96.89333333333333\n",
      "96.09619696102274\n"
     ]
    }
   ],
   "source": [
    "#Calculamos el mean absolute error\n",
    "mae_1 = mean_absolute_error(actual,rollingw1)\n",
    "\n",
    "mae_2 = mean_absolute_error(actual,rollingw2)\n",
    "\n",
    "print(mae_1)\n",
    "print(mae_2)"
   ]
  },
  {
   "cell_type": "code",
   "execution_count": 17,
   "metadata": {},
   "outputs": [],
   "source": [
    "def dm_test(actual_lst, pred1_lst, pred2_lst, h = 1, crit=\"MSE\", power = 2):\n",
    "    # Routine for checking errors\n",
    "    def error_check():\n",
    "        rt = 0\n",
    "        msg = \"\"\n",
    "        # Check if h is an integer\n",
    "        if (not isinstance(h, int)):\n",
    "            rt = -1\n",
    "            msg = \"The type of the number of steps ahead (h) is not an integer.\"\n",
    "            return (rt,msg)\n",
    "        # Check the range of h\n",
    "        if (h < 1):\n",
    "            rt = -1\n",
    "            msg = \"The number of steps ahead (h) is not large enough.\"\n",
    "            return (rt,msg)\n",
    "        len_act = len(actual_lst)\n",
    "        len_p1  = len(pred1_lst)\n",
    "        len_p2  = len(pred2_lst)\n",
    "        # Check if lengths of actual values and predicted values are equal\n",
    "        if (len_act != len_p1 or len_p1 != len_p2 or len_act != len_p2):\n",
    "            rt = -1\n",
    "            msg = \"Lengths of actual_lst, pred1_lst and pred2_lst do not match.\"\n",
    "            return (rt,msg)\n",
    "        # Check range of h\n",
    "        if (h >= len_act):\n",
    "            rt = -1\n",
    "            msg = \"The number of steps ahead is too large.\"\n",
    "            return (rt,msg)\n",
    "        # Check if criterion supported\n",
    "        if (crit != \"MSE\" and crit != \"MAPE\" and crit != \"MAD\" and crit != \"poly\"):\n",
    "            rt = -1\n",
    "            msg = \"The criterion is not supported.\"\n",
    "            return (rt,msg)  \n",
    "        # Check if every value of the input lists are numerical values\n",
    "        from re import compile as re_compile\n",
    "        comp = re_compile(\"^\\d+?\\.\\d+?$\")  \n",
    "        def compiled_regex(s):\n",
    "            \"\"\" Returns True is string is a number. \"\"\"\n",
    "            if comp.match(s) is None:\n",
    "                return s.isdigit()\n",
    "            return True\n",
    "        for actual, pred1, pred2 in zip(actual_lst, pred1_lst, pred2_lst):\n",
    "            is_actual_ok = compiled_regex(str(abs(actual)))\n",
    "            is_pred1_ok = compiled_regex(str(abs(pred1)))\n",
    "            is_pred2_ok = compiled_regex(str(abs(pred2)))\n",
    "            if (not (is_actual_ok and is_pred1_ok and is_pred2_ok)):  \n",
    "                msg = \"An element in the actual_lst, pred1_lst or pred2_lst is not numeric.\"\n",
    "                rt = -1\n",
    "                return (rt,msg)\n",
    "        return (rt,msg)\n",
    "    \n",
    "    # Error check\n",
    "    error_code = error_check()\n",
    "    # Raise error if cannot pass error check\n",
    "    if (error_code[0] == -1):\n",
    "        raise SyntaxError(error_code[1])\n",
    "        return\n",
    "    # Import libraries\n",
    "    from scipy.stats import t\n",
    "    import collections\n",
    "    import pandas as pd\n",
    "    import numpy as np\n",
    "    \n",
    "    # Initialise lists\n",
    "    e1_lst = []\n",
    "    e2_lst = []\n",
    "    d_lst  = []\n",
    "    \n",
    "    # convert every value of the lists into real values\n",
    "    actual_lst = pd.Series(actual_lst).apply(lambda x: float(x)).tolist()\n",
    "    pred1_lst = pd.Series(pred1_lst).apply(lambda x: float(x)).tolist()\n",
    "    pred2_lst = pd.Series(pred2_lst).apply(lambda x: float(x)).tolist()\n",
    "    \n",
    "    # Length of lists (as real numbers)\n",
    "    T = float(len(actual_lst))\n",
    "    \n",
    "    # construct d according to crit\n",
    "    if (crit == \"MSE\"):\n",
    "        for actual,p1,p2 in zip(actual_lst,pred1_lst,pred2_lst):\n",
    "            e1_lst.append((actual - p1)**2)\n",
    "            e2_lst.append((actual - p2)**2)\n",
    "        for e1, e2 in zip(e1_lst, e2_lst):\n",
    "            d_lst.append(e1 - e2)\n",
    "    elif (crit == \"MAD\"):\n",
    "        for actual,p1,p2 in zip(actual_lst,pred1_lst,pred2_lst):\n",
    "            e1_lst.append(abs(actual - p1))\n",
    "            e2_lst.append(abs(actual - p2))\n",
    "        for e1, e2 in zip(e1_lst, e2_lst):\n",
    "            d_lst.append(e1 - e2)\n",
    "    elif (crit == \"MAPE\"):\n",
    "        for actual,p1,p2 in zip(actual_lst,pred1_lst,pred2_lst):\n",
    "            e1_lst.append(abs((actual - p1)/actual))\n",
    "            e2_lst.append(abs((actual - p2)/actual))\n",
    "        for e1, e2 in zip(e1_lst, e2_lst):\n",
    "            d_lst.append(e1 - e2)\n",
    "    elif (crit == \"poly\"):\n",
    "        for actual,p1,p2 in zip(actual_lst,pred1_lst,pred2_lst):\n",
    "            e1_lst.append(((actual - p1))**(power))\n",
    "            e2_lst.append(((actual - p2))**(power))\n",
    "        for e1, e2 in zip(e1_lst, e2_lst):\n",
    "            d_lst.append(e1 - e2)    \n",
    "    \n",
    "    # Mean of d        \n",
    "    mean_d = pd.Series(d_lst).mean()\n",
    "    \n",
    "    # Find autocovariance and construct DM test statistics\n",
    "    def autocovariance(Xi, N, k, Xs):\n",
    "        autoCov = 0\n",
    "        T = float(N)\n",
    "        for i in np.arange(0, N-k):\n",
    "              autoCov += ((Xi[i+k])-Xs)*(Xi[i]-Xs)\n",
    "        return (1/(T))*autoCov\n",
    "    gamma = []\n",
    "    for lag in range(0,h):\n",
    "        gamma.append(autocovariance(d_lst,len(d_lst),lag,mean_d)) # 0, 1, 2\n",
    "    V_d = (gamma[0] + 2*sum(gamma[1:]))/T\n",
    "    DM_stat=V_d**(-0.5)*mean_d\n",
    "    harvey_adj=((T+1-2*h+h*(h-1)/T)/T)**(0.5)\n",
    "    DM_stat = harvey_adj*DM_stat\n",
    "    # Find p-value\n",
    "    p_value = 2*t.cdf(-abs(DM_stat), df = T - 1)\n",
    "    \n",
    "    # Construct named tuple for return\n",
    "    dm_return = collections.namedtuple('dm_return', 'DM p_value')\n",
    "    \n",
    "    rt = dm_return(DM = DM_stat, p_value = p_value)\n",
    "    \n",
    "    return rt"
   ]
  },
  {
   "cell_type": "code",
   "execution_count": 18,
   "metadata": {
    "scrolled": true
   },
   "outputs": [
    {
     "name": "stdout",
     "output_type": "stream",
     "text": [
      "dm_return(DM=-0.2348709709993388, p_value=0.8202089509943034)\n"
     ]
    }
   ],
   "source": [
    "#Considerando como Ho = Las predicciones tienen una precisión equivalente\n",
    "rt = dm_test(actual,rollingw1,rollingw2,h = 1, crit=\"MSE\")\n",
    "print(rt)"
   ]
  },
  {
   "cell_type": "code",
   "execution_count": 19,
   "metadata": {},
   "outputs": [
    {
     "name": "stdout",
     "output_type": "stream",
     "text": [
      "2.976356869600507\n"
     ]
    }
   ],
   "source": [
    "mape = np.mean(np.abs((actual - rollingw1) / actual)) * 100\n",
    "print(mape)"
   ]
  },
  {
   "cell_type": "code",
   "execution_count": 22,
   "metadata": {},
   "outputs": [
    {
     "name": "stderr",
     "output_type": "stream",
     "text": [
      "C:\\Users\\ashle\\anaconda3\\lib\\site-packages\\ipykernel_launcher.py:8: SettingWithCopyWarning: \n",
      "A value is trying to be set on a copy of a slice from a DataFrame.\n",
      "Try using .loc[row_indexer,col_indexer] = value instead\n",
      "\n",
      "See the caveats in the documentation: https://pandas.pydata.org/pandas-docs/stable/user_guide/indexing.html#returning-a-view-versus-a-copy\n",
      "  \n"
     ]
    }
   ],
   "source": [
    "##PUNTO 2 ##\n",
    "\n",
    "base_completa = pd.read_csv(\"Completa\", header=0, parse_dates=True, index_col=0, usecols= [0,1,17])\n",
    "base_completa.index = pd.to_datetime(base_completa.index, utc = True)\n",
    "\n",
    "BFX = base_completa[\"Symbol\"] == \".BFX\"\n",
    "indice_BFX = base_completa[BFX]\n",
    "\n",
    "\n",
    "indice_BFX[\"retornos\"] = np.log(indice_BFX[\"close_price\"]).diff(periods=1)*100\n",
    "indice_BFX = indice_BFX.dropna()\n",
    "\n",
    "\n",
    "BFX_2017 = indice_BFX.loc[:\"2017-12-29\"]\n",
    "BFX_2017 = BFX_2017.dropna()\n",
    "\n",
    "indice_BFX=indice_BFX.dropna()\n",
    "\n",
    "#base_BFX = BFX.loc[:\"2017-12-30\",[\"close_price\",\"rv5_ss\"]]\n",
    "#BFX_2017.index = pd.to_datetime(BFX_2017.index, utc = True)"
   ]
  },
  {
   "cell_type": "code",
   "execution_count": 23,
   "metadata": {
    "scrolled": true
   },
   "outputs": [
    {
     "name": "stdout",
     "output_type": "stream",
     "text": [
      "Iteration:      1,   Func. Count:      6,   Neg. LLF: 6544.833091982618\n",
      "Iteration:      2,   Func. Count:     16,   Neg. LLF: 6535.602105963577\n",
      "Iteration:      3,   Func. Count:     24,   Neg. LLF: 6529.512339500711\n",
      "Iteration:      4,   Func. Count:     32,   Neg. LLF: 6520.808954848859\n",
      "Iteration:      5,   Func. Count:     40,   Neg. LLF: 6519.592302742311\n",
      "Iteration:      6,   Func. Count:     47,   Neg. LLF: 6518.22433655166\n",
      "Iteration:      7,   Func. Count:     54,   Neg. LLF: 6518.00399615176\n",
      "Iteration:      8,   Func. Count:     61,   Neg. LLF: 6517.231371223112\n",
      "Iteration:      9,   Func. Count:     67,   Neg. LLF: 6517.094070854051\n",
      "Iteration:     10,   Func. Count:     73,   Neg. LLF: 6517.09143774478\n",
      "Iteration:     11,   Func. Count:     79,   Neg. LLF: 6517.0914020504515\n",
      "Optimization terminated successfully.    (Exit mode 0)\n",
      "            Current function value: 6517.091401325999\n",
      "            Iterations: 11\n",
      "            Function evaluations: 80\n",
      "            Gradient evaluations: 11\n",
      "                     Constant Mean - GARCH Model Results                      \n",
      "==============================================================================\n",
      "Dep. Variable:               retornos   R-squared:                      -0.002\n",
      "Mean Model:             Constant Mean   Adj. R-squared:                 -0.002\n",
      "Vol Model:                      GARCH   Log-Likelihood:               -6517.09\n",
      "Distribution:                  Normal   AIC:                           13042.2\n",
      "Method:            Maximum Likelihood   BIC:                           13067.9\n",
      "                                        No. Observations:                 4588\n",
      "Date:                Sun, Nov 22 2020   Df Residuals:                     4584\n",
      "Time:                        00:16:52   Df Model:                            4\n",
      "                                 Mean Model                                 \n",
      "============================================================================\n",
      "                 coef    std err          t      P>|t|      95.0% Conf. Int.\n",
      "----------------------------------------------------------------------------\n",
      "mu             0.0656  1.270e-02      5.166  2.396e-07 [4.071e-02,9.049e-02]\n",
      "                              Volatility Model                              \n",
      "============================================================================\n",
      "                 coef    std err          t      P>|t|      95.0% Conf. Int.\n",
      "----------------------------------------------------------------------------\n",
      "omega          0.0266  6.967e-03      3.815  1.364e-04 [1.292e-02,4.023e-02]\n",
      "alpha[1]       0.1355  2.120e-02      6.391  1.652e-10   [9.395e-02,  0.177]\n",
      "beta[1]        0.8485  2.190e-02     38.746      0.000     [  0.806,  0.891]\n",
      "============================================================================\n",
      "\n",
      "Covariance estimator: robust\n"
     ]
    },
    {
     "data": {
      "image/png": "[encoded data removed]",
      "text/plain": [
       "<Figure size 432x288 with 2 Axes>"
      ]
     },
     "execution_count": 23,
     "metadata": {},
     "output_type": "execute_result"
    },
    {
     "data": {
      "image/png": "[encoded data removed]",
      "text/plain": [
       "<Figure size 432x288 with 2 Axes>"
      ]
     },
     "metadata": {
      "needs_background": "light"
     },
     "output_type": "display_data"
    }
   ],
   "source": [
    "garch = arch_model(BFX_2017[\"retornos\"], p = 1, q = 1, mean = \"constant\", \n",
    "                       vol = \"GARCH\", dist = \"normal\")\n",
    "\n",
    "garch_fit = garch.fit(last_obs=\"2017-12-31\")\n",
    "print(garch_fit.summary())\n",
    "\n",
    "garch_fit.plot()"
   ]
  },
  {
   "cell_type": "code",
   "execution_count": 24,
   "metadata": {},
   "outputs": [],
   "source": [
    "gm=arch_model(indice_BFX[\"retornos\"],p=1,q=1,mean = 'constant', vol = 'GARCH',dist=\"normal\")\n",
    "start_loc,end_loc=3006,4513\n",
    "forecasts=dict()\n",
    "   \n",
    "garch_forecast = pd.DataFrame(forecasts).T*np.sqrt(252)"
   ]
  },
  {
   "cell_type": "code",
   "execution_count": 25,
   "metadata": {},
   "outputs": [],
   "source": [
    "from arch.univariate import EWMAVariance, ZeroMean\n",
    "r_BFX= ZeroMean(indice_BFX[\"retornos\"])\n",
    "rv_BFX = EWMAVariance(lam = 0.95)\n",
    "ewma = r_BFX.fit()\n",
    "Pewma = np.sqrt(ewma.forecast(horizon=1, start=\"2017-12-31\").variance[\"2017-12-31\":])*np.sqrt(252)"
   ]
  }
 ],
 "metadata": {
  "kernelspec": {
   "display_name": "Python 3",
   "language": "python",
   "name": "python3"
  },
  "language_info": {
   "codemirror_mode": {
    "name": "ipython",
    "version": 3
   },
   "file_extension": ".py",
   "mimetype": "text/x-python",
   "name": "python",
   "nbconvert_exporter": "python",
   "pygments_lexer": "ipython3",
   "version": "3.7.6"
  }
 },
 "nbformat": 4,
 "nbformat_minor": 4
}
